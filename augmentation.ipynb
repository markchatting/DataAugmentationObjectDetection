{
 "cells": [
  {
   "cell_type": "code",
   "execution_count": 5,
   "id": "69da26d9",
   "metadata": {},
   "outputs": [],
   "source": [
    "import imgaug as ia\n",
    "%matplotlib inline\n",
    "from imgaug.augmentables.bbs import BoundingBox, BoundingBoxesOnImage\n",
    "from imgaug import augmenters as iaa \n",
    "# imageio library will be used for image input/output\n",
    "import imageio\n",
    "import pandas as pd\n",
    "import numpy as np\n",
    "import re\n",
    "import os\n",
    "import glob\n",
    "# this library is needed for working with XML files\n",
    "import xml.etree.ElementTree as ET\n",
    "import shutil"
   ]
  },
  {
   "cell_type": "code",
   "execution_count": 6,
   "id": "5f9da0f0",
   "metadata": {},
   "outputs": [],
   "source": [
    "# This function was orginally written by https://github.com/asetkn and has been lifted straight from him.\n",
    "# Function that will extract label data from XML files and arrange into dataframe\n",
    "def xml_to_df(path):\n",
    "    xml_list = []\n",
    "    for xml_file in glob.glob(path + '/*.xml'):\n",
    "        tree = ET.parse(xml_file)\n",
    "        root = tree.getroot()\n",
    "        for member in root.findall('object'):\n",
    "            value = (root.find('filename').text,\n",
    "                     int(root.find('size')[0].text),\n",
    "                     int(root.find('size')[1].text),\n",
    "                     member[0].text,\n",
    "                     int(member[4][0].text),\n",
    "                     int(member[4][1].text),\n",
    "                     int(member[4][2].text),\n",
    "                     int(member[4][3].text)\n",
    "                     )\n",
    "            xml_list.append(value)\n",
    "    column_name = ['filename', 'width', 'height', 'class', 'xmin', 'ymin', 'xmax', 'ymax']\n",
    "    xml_df = pd.DataFrame(xml_list, columns=column_name)\n",
    "    return xml_df"
   ]
  },
  {
   "cell_type": "code",
   "execution_count": 7,
   "id": "f3d5159b",
   "metadata": {},
   "outputs": [],
   "source": [
    "# apply xml_to_df() function to convert all XML files in images/ folder into labels.csv\n",
    "labels_df = xml_to_df('images/')"
   ]
  },
  {
   "cell_type": "code",
   "execution_count": 12,
   "id": "14f7242b",
   "metadata": {},
   "outputs": [],
   "source": [
    "# function to convert BoundingBoxesOnImage object into DataFrame\n",
    "def bbs_obj_to_df(bbs_object):\n",
    "#     convert BoundingBoxesOnImage object into array\n",
    "    bbs_array = bbs_object.to_xyxy_array()\n",
    "#     convert array into a DataFrame ['xmin', 'ymin', 'xmax', 'ymax'] columns\n",
    "    df_bbs = pd.DataFrame(bbs_array, columns=['xmin', 'ymin', 'xmax', 'ymax'])\n",
    "    return df_bbs"
   ]
  },
  {
   "cell_type": "code",
   "execution_count": 13,
   "id": "908367ce",
   "metadata": {},
   "outputs": [],
   "source": [
    "# This setup of augmentation parameters will pick two of four given augmenters and apply them in random order\n",
    "aug = iaa.SomeOf(2, [    \n",
    "    iaa.Affine(scale=(0.5, 1.5)),\n",
    "    iaa.Affine(rotate=(-60, 60)),\n",
    "    iaa.Affine(translate_percent={\"x\": (-0.3, 0.3), \"y\": (-0.3, 0.3)}),\n",
    "    iaa.Fliplr(1),\n",
    "    iaa.Multiply((0.5, 1.5)),\n",
    "    iaa.GaussianBlur(sigma=(1.0, 3.0)),\n",
    "    iaa.AdditiveGaussianNoise(scale=(0.03*255, 0.05*255))\n",
    "])"
   ]
  },
  {
   "cell_type": "code",
   "execution_count": 14,
   "id": "ca6d0738",
   "metadata": {},
   "outputs": [],
   "source": [
    "# This function was orginally written by https://github.com/asetkn and has been lifted straight from him.\n",
    "def image_aug(df, images_path, aug_images_path, image_prefix, augmentor):\n",
    "    # create data frame which we're going to populate with augmented image info\n",
    "    aug_bbs_xy = pd.DataFrame(columns=\n",
    "                              ['filename','width','height','class', 'xmin', 'ymin', 'xmax', 'ymax']\n",
    "                             )\n",
    "    grouped = df.groupby('filename')\n",
    "    \n",
    "    for filename in df['filename'].unique():\n",
    "    #   get separate data frame grouped by file name\n",
    "        group_df = grouped.get_group(filename)\n",
    "        group_df = group_df.reset_index()\n",
    "        group_df = group_df.drop(['index'], axis=1)   \n",
    "    #   read the image\n",
    "        image = imageio.imread(images_path+filename)\n",
    "    #   get bounding boxes coordinates and write into array        \n",
    "        bb_array = group_df.drop(['filename', 'width', 'height', 'class'], axis=1).values\n",
    "    #   pass the array of bounding boxes coordinates to the imgaug library\n",
    "        bbs = BoundingBoxesOnImage.from_xyxy_array(bb_array, shape=image.shape)\n",
    "    #   apply augmentation on image and on the bounding boxes\n",
    "        image_aug, bbs_aug = augmentor(image=image, bounding_boxes=bbs)\n",
    "    #   disregard bounding boxes which have fallen out of image pane    \n",
    "        bbs_aug = bbs_aug.remove_out_of_image()\n",
    "    #   clip bounding boxes which are partially outside of image pane\n",
    "        bbs_aug = bbs_aug.clip_out_of_image()\n",
    "        \n",
    "    #   don't perform any actions with the image if there are no bounding boxes left in it    \n",
    "        if re.findall('Image...', str(bbs_aug)) == ['Image([]']:\n",
    "            pass\n",
    "        \n",
    "    #   otherwise continue\n",
    "        else:\n",
    "        #   write augmented image to a file\n",
    "            imageio.imwrite(aug_images_path+image_prefix+filename, image_aug)  \n",
    "        #   create a data frame with augmented values of image width and height\n",
    "            info_df = group_df.drop(['xmin', 'ymin', 'xmax', 'ymax'], axis=1)    \n",
    "            for index, _ in info_df.iterrows():\n",
    "                info_df.at[index, 'width'] = image_aug.shape[1]\n",
    "                info_df.at[index, 'height'] = image_aug.shape[0]\n",
    "        #   rename filenames by adding the predifined prefix\n",
    "            info_df['filename'] = info_df['filename'].apply(lambda x: image_prefix+x)\n",
    "        #   create a data frame with augmented bounding boxes coordinates using the function we created earlier\n",
    "            bbs_df = bbs_obj_to_df(bbs_aug)\n",
    "        #   concat all new augmented info into new data frame\n",
    "            aug_df = pd.concat([info_df, bbs_df], axis=1)\n",
    "        #   append rows to aug_bbs_xy data frame\n",
    "            aug_bbs_xy = pd.concat([aug_bbs_xy, aug_df])            \n",
    "    \n",
    "    # return dataframe with updated images and bounding boxes annotations \n",
    "    aug_bbs_xy = aug_bbs_xy.reset_index()\n",
    "    aug_bbs_xy = aug_bbs_xy.drop(['index'], axis=1)\n",
    "    return aug_bbs_xy"
   ]
  },
  {
   "cell_type": "code",
   "execution_count": null,
   "id": "a504a33f",
   "metadata": {},
   "outputs": [],
   "source": [
    "# N is the number of augmented images you would like to create for each image in your dataset\n",
    "N = 8"
   ]
  },
  {
   "cell_type": "code",
   "execution_count": 2,
   "id": "42b1ebb8",
   "metadata": {},
   "outputs": [],
   "source": [
    "# Apply augmentation to our images and save files into 'aug_images/' folder. A new prefix (aug1_, aug2_, ...) is created for\n",
    "# for each augmentation. The updated images and bounding boxesare then written to a new final_augment_df dataframe.\n",
    "# BEFORE RUNNING THIS BLOCK PLEASE MAKE SURE YOU HAVE CREATED A FOLDER 'aug_images/' IN THE SAME DIRECTOREY AS 'images/'\n",
    "final_augment_df = labels_df\n",
    "for i in range(0, N):\n",
    "    output_df = image_aug(labels_df, 'images/', 'aug_images/', 'aug' + str(i) + '_', aug)\n",
    "    output_df = output_df.dropna()\n",
    "    final_augment_df = final_augment_df.append(output_df)\n",
    "    print('Augmentation ' + str(i) + ' complete!')\n",
    "\n",
    "print('Augmented image and label dataframe successfully created')"
   ]
  },
  {
   "cell_type": "code",
   "execution_count": 16,
   "id": "76611828",
   "metadata": {},
   "outputs": [],
   "source": [
    "# This function will convert the bounding box values from XML files to those required for YOLO training. Breifley, the XML\n",
    "# files are labelled with Pascal VOC notation (bounding coordinates in the XML files correspond to bottom right and top left \n",
    "# corners of the bounding boxes) and need to be converted to YOLO format (x and y coordinate of the centre of each bounding box\n",
    "# with the width and height of the bounding box normalized for the image width and height)\n",
    "def convert(xmin, ymin, xmax, ymax, img_w, img_h):\n",
    "    dw = 1./(img_w)\n",
    "    dh = 1./(img_h)\n",
    "    x = (xmin + xmax)/2.0 - 1\n",
    "    y = (ymin + ymax)/2.0 - 1\n",
    "    w = xmax - xmin\n",
    "    h = ymax - ymin\n",
    "    x = x*dw\n",
    "    w = w*dw\n",
    "    y = y*dh\n",
    "    h = h*dh\n",
    "    return (x,y,w,h)"
   ]
  },
  {
   "cell_type": "code",
   "execution_count": 17,
   "id": "4b9fca82",
   "metadata": {},
   "outputs": [],
   "source": [
    "# This function converts the class name from the XML files to a number needed for the YOLO text file format.\n",
    "def convert_class(classname):\n",
    "    if classname == 'plastic':\n",
    "        return 0\n",
    "    elif classname == 'metal':\n",
    "        return 1\n",
    "    elif classname == 'glass':\n",
    "        return 2\n",
    "    elif classname == 'paper':\n",
    "        return 3\n",
    "    elif classname == 'fabric':\n",
    "        return 4\n",
    "    elif classname == 'rubber':\n",
    "        return 5\n",
    "    elif classname == 'processed wood':\n",
    "        return 6"
   ]
  },
  {
   "cell_type": "code",
   "execution_count": null,
   "id": "917a7083",
   "metadata": {},
   "outputs": [],
   "source": [
    "# These are the classes we are working with. For training your own dataset, you'd need to input your own class names here\n",
    "# and make sure they correspond to the same numbers in the convert_class() function created above.\n",
    "classes = ['plastic', 'metal', 'glass', 'paper', 'fabric','rubber', 'processed wood']"
   ]
  },
  {
   "cell_type": "code",
   "execution_count": 1,
   "id": "fa481f97",
   "metadata": {},
   "outputs": [],
   "source": [
    "# This loop cycles through each row of each file name and creates a YOLO formatted text file that can be used directly in\n",
    "# YOLO object detection model training (along with corresponding images). \n",
    "for j in range(len(final_augment_df['filename'].unique())):\n",
    "    test_df = final_augment_df[final_augment_df.filename == final_augment_df['filename'].unique()[j]]\n",
    "    xmin_array = np.array(test_df['xmin'])\n",
    "    ymin_array = np.array(test_df['ymin'])\n",
    "    xmax_array = np.array(test_df['xmax'])\n",
    "    ymax_array = np.array(test_df['ymax'])\n",
    "    w_array = np.array(test_df['width'])\n",
    "    h_array = np.array(test_df['height'])\n",
    "    for i in range(len(test_df)):\n",
    "        output = convert(xmin_array[i], ymin_array[i], xmax_array[i], ymax_array[i], w_array[i], h_array[i])\n",
    "        object_class = convert_class(np.array(test_df['class'])[i])\n",
    "        text_output = str(object_class) + ' ' + str(output[0]) + ' ' + str(output[1]) + ' ' + str(output[2]) + ' ' + str(output[3])\n",
    "        print(text_output,  file=open('images/' + str(final_augment_df['filename'].unique()[j])[:-4] + '.txt', 'a'))\n",
    "    \n",
    "    print(str(final_augment_df['filename'].unique()[j]))\n",
    "        \n",
    "print('Augmented image and yolo text files successfully created')"
   ]
  },
  {
   "cell_type": "code",
   "execution_count": 19,
   "id": "b3a43607",
   "metadata": {},
   "outputs": [],
   "source": [
    "# Now all the augmented image files are copied into the images/ folder so that all augmented images and corresponding .txt\n",
    "# files are in the same folder. If you would like to use these data for training first delete the original XML files.\n",
    "for file in os.listdir('aug_images'):\n",
    "    shutil.copy('aug_images/'+file, 'images/'+file)"
   ]
  },
  {
   "cell_type": "code",
   "execution_count": null,
   "id": "65e3bcb2",
   "metadata": {},
   "outputs": [],
   "source": []
  }
 ],
 "metadata": {
  "kernelspec": {
   "display_name": "Python 3 (ipykernel)",
   "language": "python",
   "name": "python3"
  },
  "language_info": {
   "codemirror_mode": {
    "name": "ipython",
    "version": 3
   },
   "file_extension": ".py",
   "mimetype": "text/x-python",
   "name": "python",
   "nbconvert_exporter": "python",
   "pygments_lexer": "ipython3",
   "version": "3.7.9"
  }
 },
 "nbformat": 4,
 "nbformat_minor": 5
}
